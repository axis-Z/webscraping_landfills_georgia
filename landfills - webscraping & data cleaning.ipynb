{
 "cells": [
  {
   "cell_type": "code",
   "execution_count": null,
   "id": "6fd86a10-9ccc-497c-9f18-26bee5b9bdfb",
   "metadata": {},
   "outputs": [],
   "source": [
    "# The project aims to scrape the data on landfills in Georgia, from the interactive map embedded on the webpage of 'Waste.Gov.Ge'\n",
    "# The webpage address: http://waste.gov.ge/ka/?page_id=3216"
   ]
  },
  {
   "cell_type": "code",
   "execution_count": null,
   "id": "809e84e2-cc25-4c38-9e2e-6474ccc0b1c3",
   "metadata": {},
   "outputs": [],
   "source": [
    "# LIBRARIES"
   ]
  },
  {
   "cell_type": "code",
   "execution_count": 1,
   "id": "8478df98-a0f3-40f0-9b62-2dab448ed927",
   "metadata": {},
   "outputs": [],
   "source": [
    "# Read libraries\n",
    "from urllib.request import urlopen\n",
    "import re\n",
    "import json\n",
    "import pandas as pd\n",
    "import numpy as np"
   ]
  },
  {
   "cell_type": "code",
   "execution_count": null,
   "id": "fc994513-0a9f-4b61-ab91-1481988fc654",
   "metadata": {},
   "outputs": [],
   "source": [
    "# HTML"
   ]
  },
  {
   "cell_type": "code",
   "execution_count": 2,
   "id": "a05a86d9-f6f6-454e-a940-76b83f07510d",
   "metadata": {},
   "outputs": [],
   "source": [
    "# Open the URL ('urlopen()'), read the HTML content ('read()') and assign encoding ('decode()')\n",
    "url = \"http://waste.gov.ge/ka?page_id=3216\"\n",
    "html_content = urlopen(url).read().decode('utf-8')  # Assuming the content is encoded in UTF-8"
   ]
  },
  {
   "cell_type": "code",
   "execution_count": null,
   "id": "c9a2ae89-66a5-44c9-9f05-40b29dda2595",
   "metadata": {},
   "outputs": [],
   "source": [
    "# Check the content in HTML\n",
    "#print(html_content)"
   ]
  },
  {
   "cell_type": "code",
   "execution_count": 3,
   "id": "56ca4d60-6b59-441d-97e6-e50559bb21fd",
   "metadata": {},
   "outputs": [
    {
     "data": {
      "text/plain": [
       "'არსებული ნაგავსაყრელები - Waste.Gov.Ge - LTD Solid Waste Management Company of Georgia'"
      ]
     },
     "execution_count": 3,
     "metadata": {},
     "output_type": "execute_result"
    }
   ],
   "source": [
    "# Extract Title From HTML With String Methods\n",
    "\n",
    "title_index = html_content.find(\"<title>\")\n",
    "#title_index\n",
    "start_index = title_index + len(\"<title>\")\n",
    "#start_index\n",
    "end_index = html_content.find(\"</title>\")\n",
    "#end_index\n",
    "\n",
    "title = html_content[start_index:end_index]\n",
    "title"
   ]
  },
  {
   "cell_type": "code",
   "execution_count": 4,
   "id": "5785ba27-cf27-4268-9a24-145e219f4fc0",
   "metadata": {},
   "outputs": [
    {
     "name": "stdout",
     "output_type": "stream",
     "text": [
      "DataFrame saved as data.csv\n"
     ]
    }
   ],
   "source": [
    "# In the HTML, the content that is needed, is stored within 'text/javascript', function 'fusion_maps', addresses: [{}].\n",
    "# Regular expression is used to extract only the needed part from the whole html.\n",
    "# The addresses part contains the JSON data.\n",
    "\n",
    "# Define the regex pattern to capture the addresses part\n",
    "pattern = r'addresses:\\s*(\\[.*?\\])'\n",
    "\n",
    "# Find all matches of the pattern in the HTML content\n",
    "matches = re.findall(pattern, html_content, re.DOTALL)\n",
    "\n",
    "# Check if there are any matches\n",
    "if matches:\n",
    "    # Convert the JSON string to a Python list of dictionaries\n",
    "    data = json.loads(matches[0])\n",
    "\n",
    "    # Convert the list of dictionaries to a DataFrame\n",
    "    df = pd.DataFrame(data)\n",
    "\n",
    "    # Save the DataFrame as a CSV file with UTF-8 encoding\n",
    "    #df.to_csv('path/data.csv', index=False, encoding='utf-8-sig')\n",
    "    print(\"DataFrame saved as data.csv\")\n",
    "else:\n",
    "    print(\"No matches found.\")"
   ]
  },
  {
   "cell_type": "code",
   "execution_count": null,
   "id": "38fdf701-7473-4fd9-865f-659172e5cdde",
   "metadata": {},
   "outputs": [],
   "source": [
    "# Check the results\n",
    "#df"
   ]
  },
  {
   "cell_type": "code",
   "execution_count": null,
   "id": "5932c396-3d40-47dd-a1cc-c714983dfdb2",
   "metadata": {},
   "outputs": [],
   "source": [
    "# DATA CLEANING"
   ]
  },
  {
   "cell_type": "code",
   "execution_count": 5,
   "id": "111f9994-034f-449e-b965-5beb8a2d6d4f",
   "metadata": {},
   "outputs": [],
   "source": [
    "# In the dataframe, the column 'infobox_content' represents list of key-value pairs. Further steps are required to extract key-values\n",
    "\n",
    "# Remove '</p><p>' and then split by '<br />'\n",
    "infobox_split = df['infobox_content'].str.replace('</p>\\n<p>', '').str.split('<br />', expand=True)\n",
    "\n",
    "\n",
    "# Create a dictionary to store key-value pairs for each row\n",
    "infobox_dict = {}\n",
    "\n",
    "# Iterate over each row\n",
    "for index, row in infobox_split.iterrows():\n",
    "    # Initialize a dictionary to store key-value pairs for the current row\n",
    "    row_dict = {}\n",
    "    # Iterate over each pair in the current row\n",
    "    for pair in row:\n",
    "        if pair:\n",
    "            # Split the pair by colon (':')\n",
    "            pair_parts = pair.split(':', 1) # 1 (max_split) means that it splits by first ':' \n",
    "            # Check if the split result has two parts (key and value)\n",
    "            if len(pair_parts) == 2:\n",
    "                # Extract key-value pairs\n",
    "                key, value = pair_parts\n",
    "                # Store key-value pairs in the dictionary\n",
    "                row_dict[key.strip()] = value.strip()\n",
    "            elif len(pair_parts) == 1:\n",
    "                # If only one part is found, assume it's a value without a key\n",
    "                # Store the value with a placeholder key\n",
    "                row_dict[f'Value_{len(row_dict)+1}'] = pair_parts[0].strip()\n",
    "    # Store the dictionary for the current row in the main dictionary\n",
    "    infobox_dict[index] = row_dict\n",
    "\n",
    "# Convert the dictionary into a DataFrame\n",
    "infobox_df = pd.DataFrame.from_dict(infobox_dict, orient='index')\n",
    "\n",
    "# Reset the index to ensure correct alignment\n",
    "infobox_df.reset_index(drop=True, inplace=True)\n",
    "\n",
    "# Concatenate the infobox_df with the original DataFrame\n",
    "df = pd.concat([df, infobox_df], axis=1)\n",
    "\n",
    "# To drop the original 'infobox_content' column | but in this case it will be kept\n",
    "#df.drop('infobox_content', axis=1, inplace=True)"
   ]
  },
  {
   "cell_type": "code",
   "execution_count": null,
   "id": "eee147db-084d-4a4e-96b7-58c52fe3490d",
   "metadata": {},
   "outputs": [],
   "source": [
    "# Check the results\n",
    "#df"
   ]
  },
  {
   "cell_type": "code",
   "execution_count": 6,
   "id": "6a699d02-24df-4c5c-a430-567ee74c0b98",
   "metadata": {},
   "outputs": [
    {
     "name": "stdout",
     "output_type": "stream",
     "text": [
      "address                               object\n",
      "infobox_content                       object\n",
      "marker                                object\n",
      "coordinates                             bool\n",
      "cache                                   bool\n",
      "latitude                              object\n",
      "longitude                             object\n",
      "Value_1                               object\n",
      "სტატუსი                               object\n",
      "მისამართი                             object\n",
      "ნაგავსაყრელის ტერიტორია               object\n",
      "Value_3                               object\n",
      "სამუშაო საათები                       object\n",
      "Value_6                               object\n",
      "ნარჩენების საშუალო რაოდენობა თვეში    object\n",
      "dtype: object\n"
     ]
    }
   ],
   "source": [
    "# Check the types of columns\n",
    "print(df.dtypes)"
   ]
  },
  {
   "cell_type": "code",
   "execution_count": 7,
   "id": "925447a2-225b-4f1e-83c5-a5641349d596",
   "metadata": {},
   "outputs": [
    {
     "data": {
      "text/plain": [
       "Index(['address', 'infobox_content', 'marker', 'coordinates', 'cache',\n",
       "       'latitude', 'longitude', 'Value_1', 'სტატუსი', 'მისამართი',\n",
       "       'ნაგავსაყრელის ტერიტორია', 'Value_3', 'სამუშაო საათები', 'Value_6',\n",
       "       'ნარჩენების საშუალო რაოდენობა თვეში'],\n",
       "      dtype='object')"
      ]
     },
     "execution_count": 7,
     "metadata": {},
     "output_type": "execute_result"
    }
   ],
   "source": [
    "# Get column names\n",
    "df.columns"
   ]
  },
  {
   "cell_type": "code",
   "execution_count": 8,
   "id": "e6bb0bdc-3843-43ff-bc9d-d0baf070c7fb",
   "metadata": {},
   "outputs": [],
   "source": [
    "# Replace column names for some occurencies\n",
    "df = df.rename(columns={'address': 'place', \n",
    "                            'Value_1': 'სახელი', \n",
    "                            'ნაგავსაყრელის ტერიტორია': 'ნაგავსაყრელის ტერიტორია (კვ.მ.)', \n",
    "                            'Value_3': 'ემსახურება', \n",
    "                            'Value_6': 'ნარჩენების საშუალო რაოდენობა თვეში (მ3)'})"
   ]
  },
  {
   "cell_type": "code",
   "execution_count": null,
   "id": "89f7f89c-5558-4727-b7f4-2070aefbf921",
   "metadata": {},
   "outputs": [],
   "source": [
    "#df"
   ]
  },
  {
   "cell_type": "code",
   "execution_count": 9,
   "id": "02ed9619-ce62-461a-a08b-a332a4ac3158",
   "metadata": {},
   "outputs": [],
   "source": [
    "# Format column values\n",
    "\n",
    "# 1. Column 'ნაგავსაყრელის ტერიტორია (კვ.მ.)'\n",
    "\n",
    "# Remove ' m2' suffix from the values in the 'ნაგავსაყრელის ტერიტორია (კვ.მ.)' column\n",
    "df['ნაგავსაყრელის ტერიტორია (კვ.მ.)'] = df['ნაგავსაყრელის ტერიტორია (კვ.მ.)'].str.replace(' m2', '')\n",
    "# Convert the 'ნაგავსაყრელის ტერიტორია (კვ.მ.)' column to float dtype\n",
    "df['ნაგავსაყრელის ტერიტორია (კვ.მ.)'] = df['ნაგავსაყრელის ტერიტორია (კვ.მ.)'].str.replace(' ', '').astype(float)\n",
    "\n",
    "\n",
    "# 2. Column 'ემსახურება'\n",
    "\n",
    "# Remove 'ემსახურება ' suffix from the values in the 'ემსახურება' column\n",
    "df['ემსახურება'] = df['ემსახურება'].str.replace('ემსახურება ', '').str.replace(' და ', ', ')\n",
    "\n",
    "\n",
    "# 3. Column 'ნარჩენების საშუალო რაოდენობა თვეში (მ3)'\n",
    "# Columns 'ნარჩენების საშუალო რაოდენობა თვეში (მ3)' & 'ნარჩენების საშუალო რაოდენობა თვეში' \n",
    "# have assigned the values of similar variable but part of them are stored in the first column and part of them in second.\n",
    "# It's needed to combine both of them and store them under one column ('ნარჩენების საშუალო რაოდენობა თვეში (მ3)')\n",
    "\n",
    "# Combine the values from both columns into a new column and then drop the original columns.\n",
    "# Combine values from both columns\n",
    "df['combined'] = df['ნარჩენების საშუალო რაოდენობა თვეში (მ3)'].fillna('') + df['ნარჩენების საშუალო რაოდენობა თვეში'].fillna('')\n",
    "# Drop original columns\n",
    "df.drop(columns=['ნარჩენების საშუალო რაოდენობა თვეში (მ3)', 'ნარჩენების საშუალო რაოდენობა თვეში'], inplace=True)\n",
    "# Rename new column\n",
    "df = df.rename(columns={'combined': 'ნარჩენების საშუალო რაოდენობა თვეში (მ3)'})\n",
    "\n",
    "\n",
    "# 4. Column 'ნარჩენების საშუალო რაოდენობა თვეში (მ3)'\n",
    "# Now values need to format, so only numbers would be left and then to convert string as float\n",
    "# Remove ' m3' suffix from the values in the 'ნარჩენების საშუალო რაოდენობა თვეში (მ3)' column\n",
    "df['ნარჩენების საშუალო რაოდენობა თვეში (მ3)'] = df['ნარჩენების საშუალო რაოდენობა თვეში (მ3)'].str.replace(' m3', '')\n",
    "# Remove extra text ('ნარჩენების საშუალო რაოდენობა თვეში - ') from the values in the 'ნარჩენების საშუალო რაოდენობა თვეში (მ3)' column\n",
    "df['ნარჩენების საშუალო რაოდენობა თვეში (მ3)'] = df['ნარჩენების საშუალო რაოდენობა თვეში (მ3)'].str.replace('ნარჩენების საშუალო რაოდენობა თვეში - ', '')\n",
    "df['ნარჩენების საშუალო რაოდენობა თვეში (მ3)'] = df['ნარჩენების საშუალო რაოდენობა თვეში (მ3)'].str.replace('ნარჩენების საშუალო რაოდენობა თვეში -', '')\n",
    "# Replace empty strings with NaN\n",
    "df['ნარჩენების საშუალო რაოდენობა თვეში (მ3)'] = df['ნარჩენების საშუალო რაოდენობა თვეში (მ3)'].replace('', np.nan)\n",
    "# Convert the 'ნარჩენების საშუალო რაოდენობა თვეში (მ3)' column from string to float\n",
    "df['ნარჩენების საშუალო რაოდენობა თვეში (მ3)'] = df['ნარჩენების საშუალო რაოდენობა თვეში (მ3)'].astype(float)\n"
   ]
  },
  {
   "cell_type": "code",
   "execution_count": null,
   "id": "9fe2fe66-7c9d-46bf-9571-530d84804141",
   "metadata": {},
   "outputs": [],
   "source": [
    "#df"
   ]
  },
  {
   "cell_type": "code",
   "execution_count": null,
   "id": "599440b5-efa6-4b17-9590-5a11910c4383",
   "metadata": {},
   "outputs": [],
   "source": [
    "# Format coordinates"
   ]
  },
  {
   "cell_type": "code",
   "execution_count": 10,
   "id": "d77f7f11-da0e-489a-a103-89aef7457361",
   "metadata": {},
   "outputs": [],
   "source": [
    "# Step 1: Check Data Consistency: ensure that all latitude values fall within the valid range of -90 to +90 degrees, and all longitude values fall within the valid range of -180 to +180 degrees. Values outside these ranges are invalid and should be flagged for further investigation.\n",
    "valid_lat_range = (-90, 90)\n",
    "valid_lon_range = (-180, 180)\n",
    "\n",
    "valid_lat = (df['latitude'].astype(float) >= valid_lat_range[0]) & (df['latitude'].astype(float) <= valid_lat_range[1])\n",
    "valid_lon = (df['longitude'].astype(float) >= valid_lon_range[0]) & (df['longitude'].astype(float) <= valid_lon_range[1])"
   ]
  },
  {
   "cell_type": "code",
   "execution_count": 11,
   "id": "0796a04d-a3d8-4d56-9f08-9ae69996f075",
   "metadata": {},
   "outputs": [],
   "source": [
    "#valid_lat\n",
    "#valid_lon"
   ]
  },
  {
   "cell_type": "code",
   "execution_count": 12,
   "id": "b76a025f-0650-46ed-8549-4ad9225d6617",
   "metadata": {},
   "outputs": [],
   "source": [
    "# Step 2: Handle Missing Values: check for any missing or null values in the latitude and longitude columns. Decide on an appropriate strategy to handle these missing values, such as imputation or removal.\n",
    "df.dropna(subset=['latitude', 'longitude'], inplace=True)\n",
    "\n",
    "# Step 3: Remove Special Characters (if any)\n",
    "# Remove Special Characters: Remove any non-numeric characters or special symbols from the latitude and longitude values, such as degree symbols or directional indicators (e.g., N, S, E, W)"
   ]
  },
  {
   "cell_type": "code",
   "execution_count": 13,
   "id": "78da03d4-9c9f-4f62-8972-bf46d0bf534e",
   "metadata": {},
   "outputs": [],
   "source": [
    "# Step 4: Convert to Float: after cleaning the data, convert the latitude and longitude columns to float data type\n",
    "df['latitude'] = df['latitude'].astype(float)\n",
    "df['longitude'] = df['longitude'].astype(float)"
   ]
  },
  {
   "cell_type": "code",
   "execution_count": 14,
   "id": "052b6bc8-34c2-4e4f-8701-6cce352d57e0",
   "metadata": {},
   "outputs": [
    {
     "name": "stdout",
     "output_type": "stream",
     "text": [
      "place                                       object\n",
      "infobox_content                             object\n",
      "marker                                      object\n",
      "coordinates                                   bool\n",
      "cache                                         bool\n",
      "latitude                                   float64\n",
      "longitude                                  float64\n",
      "სახელი                                      object\n",
      "სტატუსი                                     object\n",
      "მისამართი                                   object\n",
      "ნაგავსაყრელის ტერიტორია (კვ.მ.)            float64\n",
      "ემსახურება                                  object\n",
      "სამუშაო საათები                             object\n",
      "ნარჩენების საშუალო რაოდენობა თვეში (მ3)    float64\n",
      "dtype: object\n"
     ]
    }
   ],
   "source": [
    "# Check the types of columns\n",
    "print(df.dtypes)"
   ]
  },
  {
   "cell_type": "code",
   "execution_count": 15,
   "id": "5718df35-c0ae-4ec6-a03e-6c832743dee0",
   "metadata": {},
   "outputs": [],
   "source": [
    "# Check the results\n",
    "#df"
   ]
  },
  {
   "cell_type": "code",
   "execution_count": 16,
   "id": "1188a428-9acf-4c6e-8f73-d54824782e61",
   "metadata": {},
   "outputs": [],
   "source": [
    "# Convert the English labels of places into Georgian and store in a new column 'დასახლება'\n",
    "\n",
    "# Define a custom mapping dictionary for municipality names\n",
    "places_mapping = {\n",
    "    \"Chiatura\": \"ჭიათურა\",\n",
    "    \"Sachkhere\": \"საჩხერე\",\n",
    "    \n",
    "    \"Tkibuli\": \"ტყიბული\",\n",
    "    \"Samtredia\": \"სამტრედია\",\n",
    "    \"Terjola\": \"თერჯოლა\",\n",
    "    \"Zestafoni\": \"ზესტაფონი\",\n",
    "    \"Kharagauli\": \"ხარაგაული\",\n",
    "    \"Khoni\": \"ხონი\",\n",
    "    \"Kutaisi\": \"ქუთაისი\",\n",
    "    \"Sagarejo\": \"საგარეჯო\",\n",
    "    \"Gurjaani\": \"გურჯაანი\",\n",
    "    \"Dedoplistskaro\": \"დედოფლისწყარო\",\n",
    "    \"Kvareli\": \"ყვარელი\",\n",
    "    \"Telavi\": \"თელავი\",\n",
    "    \"Tsnori\": \"წნორი\",\n",
    "    \"Lagodekhi\": \"ლაგოდეხი\",\n",
    "    \"Martvili\": \"მარტვილი\",\n",
    "    \"Chkhorotsku\": \"ჩხოროწყუ\",\n",
    "    \"Senaki\": \"სენაკი\",\n",
    "    \"Abasha\": \"აბაშა\",\n",
    "    \"Zugdidi\": \"ზუგდიდი\",\n",
    "    \"Tsalenjikha\": \"წალენჯიხა\",\n",
    "    \"Khobi\": \"ხობი\",\n",
    "    \"Poti\": \"ფოთი\",\n",
    "    \"Chokhatauri\": \"ჩოხატაური\",\n",
    "    \"Lanchkhuti\": \"ლანჩხუთი\",\n",
    "    \"Ozurgeti\": \"ოზურგეთი\",\n",
    "    \"Ureki\": \"ურეკი\",\n",
    "    \"Khashuri\": \"ხაშური\",\n",
    "    \"Kareli\": \"ქარელი\",\n",
    "    \"Agara\": \"აგარა\",\n",
    "    \"Gori\": \"გორი\",\n",
    "    \"Kaspi\": \"კასპი\",\n",
    "    \"Tetri\": \"თეთრი\",\n",
    "    \"Tsalka\": \"წალკა\",\n",
    "    \"Dmanisi\": \"დმანისი\",\n",
    "    \"Bolnisi\": \"ბოლნისი\",\n",
    "    \"Chivchavi\": \"ჭივჭავი\",\n",
    "    \"Marneuli\": \"მარნეული\",\n",
    "    \"Aspindza\": \"ასპინძა\",\n",
    "    \"Bakuriani\": \"ბაკურიანი\",\n",
    "    \"Akhaltsikhe\": \"ახალციხე\",\n",
    "    \"Ninotsminda\": \"ნინოწმინდა\",\n",
    "    \"Borjomi\": \"ბორჯომი\",\n",
    "    \"Tsageri\": \"ცაგერი\",\n",
    "    \"Oni\": \"ონი\",\n",
    "    \"Ambrolauri\": \"ამბროლაური\",\n",
    "    \"Tianeti\": \"თიანეთი\",\n",
    "    \"Qsani\": \"ქსანი\",\n",
    "    \"Sioni\": \"სიონი\",\n",
    "    \"Dusheti\": \"დუშეთი\",\n",
    "    \"Stepantsminda\": \"სტეფანწმინდა\"\n",
    "    # Add more mappings as needed\n",
    "}\n",
    "\n",
    "\n",
    "# Function to convert English names to Georgian\n",
    "def convert_to_georgian(place):\n",
    "    return places_mapping.get(place, place)\n",
    "\n",
    "# Apply the conversion function to create the 'დასახლება' field\n",
    "df['დასახლება'] = df['place'].apply(convert_to_georgian)"
   ]
  },
  {
   "cell_type": "code",
   "execution_count": null,
   "id": "7c0a81aa-777d-467f-8821-0a352c4a0eab",
   "metadata": {},
   "outputs": [],
   "source": [
    "# Check the results\n",
    "#df"
   ]
  },
  {
   "cell_type": "code",
   "execution_count": 17,
   "id": "7856ab10-941e-487e-8bc9-47706c8e2e8a",
   "metadata": {},
   "outputs": [
    {
     "data": {
      "text/plain": [
       "Index(['place', 'infobox_content', 'marker', 'coordinates', 'cache',\n",
       "       'latitude', 'longitude', 'სახელი', 'სტატუსი', 'მისამართი',\n",
       "       'ნაგავსაყრელის ტერიტორია (კვ.მ.)', 'ემსახურება', 'სამუშაო საათები',\n",
       "       'ნარჩენების საშუალო რაოდენობა თვეში (მ3)', 'დასახლება'],\n",
       "      dtype='object')"
      ]
     },
     "execution_count": 17,
     "metadata": {},
     "output_type": "execute_result"
    }
   ],
   "source": [
    "# Get the column names\n",
    "df.columns"
   ]
  },
  {
   "cell_type": "code",
   "execution_count": 18,
   "id": "e8fd3e83-14c2-4180-a3a6-d194666bad95",
   "metadata": {},
   "outputs": [],
   "source": [
    "# Order columns in a desired order\n",
    "\n",
    "# Define column order\n",
    "desired_order = ['place', 'infobox_content', 'marker', 'coordinates', 'cache', \n",
    "                 'latitude', 'longitude', 'სახელი', 'დასახლება', 'სტატუსი', 'მისამართი', \n",
    "                 'ნაგავსაყრელის ტერიტორია (კვ.მ.)', 'ემსახურება', 'სამუშაო საათები', \n",
    "                 'ნარჩენების საშუალო რაოდენობა თვეში (მ3)']\n",
    "\n",
    "# Reorder the columns\n",
    "df = df.reindex(columns=desired_order)"
   ]
  },
  {
   "cell_type": "code",
   "execution_count": 18,
   "id": "5964df77-af3a-413d-9f7c-1aa865a89700",
   "metadata": {},
   "outputs": [
    {
     "data": {
      "text/html": [
       "<div>\n",
       "<style scoped>\n",
       "    .dataframe tbody tr th:only-of-type {\n",
       "        vertical-align: middle;\n",
       "    }\n",
       "\n",
       "    .dataframe tbody tr th {\n",
       "        vertical-align: top;\n",
       "    }\n",
       "\n",
       "    .dataframe thead th {\n",
       "        text-align: right;\n",
       "    }\n",
       "</style>\n",
       "<table border=\"1\" class=\"dataframe\">\n",
       "  <thead>\n",
       "    <tr style=\"text-align: right;\">\n",
       "      <th></th>\n",
       "      <th>place</th>\n",
       "      <th>infobox_content</th>\n",
       "      <th>marker</th>\n",
       "      <th>coordinates</th>\n",
       "      <th>cache</th>\n",
       "      <th>latitude</th>\n",
       "      <th>longitude</th>\n",
       "      <th>სახელი</th>\n",
       "      <th>დასახლება</th>\n",
       "      <th>სტატუსი</th>\n",
       "      <th>მისამართი</th>\n",
       "      <th>ნაგავსაყრელის ტერიტორია (კვ.მ.)</th>\n",
       "      <th>ემსახურება</th>\n",
       "      <th>სამუშაო საათები</th>\n",
       "      <th>ნარჩენების საშუალო რაოდენობა თვეში (მ3)</th>\n",
       "    </tr>\n",
       "  </thead>\n",
       "  <tbody>\n",
       "    <tr>\n",
       "      <th>0</th>\n",
       "      <td>Chiatura</td>\n",
       "      <td>ჭიათურის ნაგავსაყრელი&lt;br /&gt;\\nსტატუსი : დახურულ...</td>\n",
       "      <td>http://waste.gov.ge/ka/wp-content/uploads/2018...</td>\n",
       "      <td>False</td>\n",
       "      <td>True</td>\n",
       "      <td>42.283333</td>\n",
       "      <td>43.283333</td>\n",
       "      <td>ჭიათურის ნაგავსაყრელი</td>\n",
       "      <td>ჭიათურა</td>\n",
       "      <td>დახურული</td>\n",
       "      <td>ჭიათურა,სოფელი რგანი</td>\n",
       "      <td>7561.0</td>\n",
       "      <td>NaN</td>\n",
       "      <td>NaN</td>\n",
       "      <td>NaN</td>\n",
       "    </tr>\n",
       "    <tr>\n",
       "      <th>1</th>\n",
       "      <td>Sachkhere</td>\n",
       "      <td>&lt;/p&gt;\\n&lt;p&gt;საჩხერის ნაგავსაყრელი&lt;br /&gt;\\nსტატუსი ...</td>\n",
       "      <td>http://waste.gov.ge/ka/wp-content/uploads/2018...</td>\n",
       "      <td>False</td>\n",
       "      <td>True</td>\n",
       "      <td>42.345278</td>\n",
       "      <td>43.419444</td>\n",
       "      <td>საჩხერის ნაგავსაყრელი</td>\n",
       "      <td>საჩხერე</td>\n",
       "      <td>მოქმედი</td>\n",
       "      <td>საჩხერე, სოფელი სარეკი</td>\n",
       "      <td>15980.0</td>\n",
       "      <td>საჩხერეს, ჭიათურას</td>\n",
       "      <td>24/7</td>\n",
       "      <td>1800.0</td>\n",
       "    </tr>\n",
       "  </tbody>\n",
       "</table>\n",
       "</div>"
      ],
      "text/plain": [
       "       place                                    infobox_content  \\\n",
       "0   Chiatura  ჭიათურის ნაგავსაყრელი<br />\\nსტატუსი : დახურულ...   \n",
       "1  Sachkhere  </p>\\n<p>საჩხერის ნაგავსაყრელი<br />\\nსტატუსი ...   \n",
       "\n",
       "                                              marker  coordinates  cache  \\\n",
       "0  http://waste.gov.ge/ka/wp-content/uploads/2018...        False   True   \n",
       "1  http://waste.gov.ge/ka/wp-content/uploads/2018...        False   True   \n",
       "\n",
       "    latitude  longitude                 სახელი დასახლება   სტატუსი  \\\n",
       "0  42.283333  43.283333  ჭიათურის ნაგავსაყრელი   ჭიათურა  დახურული   \n",
       "1  42.345278  43.419444  საჩხერის ნაგავსაყრელი   საჩხერე   მოქმედი   \n",
       "\n",
       "                მისამართი  ნაგავსაყრელის ტერიტორია (კვ.მ.)  \\\n",
       "0    ჭიათურა,სოფელი რგანი                           7561.0   \n",
       "1  საჩხერე, სოფელი სარეკი                          15980.0   \n",
       "\n",
       "           ემსახურება სამუშაო საათები  ნარჩენების საშუალო რაოდენობა თვეში (მ3)  \n",
       "0                 NaN             NaN                                      NaN  \n",
       "1  საჩხერეს, ჭიათურას            24/7                                   1800.0  "
      ]
     },
     "execution_count": 18,
     "metadata": {},
     "output_type": "execute_result"
    }
   ],
   "source": [
    "# Check the results\n",
    "df.head(2)"
   ]
  },
  {
   "cell_type": "code",
   "execution_count": 19,
   "id": "fb51d155-eab1-4ed0-92e0-5809b883d6ec",
   "metadata": {},
   "outputs": [],
   "source": [
    "# Save the csv file\n",
    "#df.to_csv('/path/landfills_georgia_24.csv', index=False, encoding='utf-8-sig')"
   ]
  }
 ],
 "metadata": {
  "kernelspec": {
   "display_name": "Python 3 (ipykernel)",
   "language": "python",
   "name": "python3"
  },
  "language_info": {
   "codemirror_mode": {
    "name": "ipython",
    "version": 3
   },
   "file_extension": ".py",
   "mimetype": "text/x-python",
   "name": "python",
   "nbconvert_exporter": "python",
   "pygments_lexer": "ipython3",
   "version": "3.11.7"
  }
 },
 "nbformat": 4,
 "nbformat_minor": 5
}
